{
 "cells": [
  {
   "cell_type": "markdown",
   "metadata": {},
   "source": [
    "[![Open In Colab](https://colab.research.google.com/assets/colab-badge.svg)](https://colab.research.google.com/github/PongthepGeo/introductory_python_2022/blob/master/verify_installed_packages.ipynb)"
   ]
  },
  {
   "cell_type": "markdown",
   "metadata": {},
   "source": [
    "## Overview Python\n",
    "\n",
    "Recap what we had studied Python from computer programming, we are going to cover variables, assigment statements, types, arithmetrics, print function, and decision making."
   ]
  },
  {
   "cell_type": "markdown",
   "metadata": {},
   "source": [
    "#### 1. Variables and assigment statements\n",
    "\n",
    "The mathetematic equation of the Newton's secound law can express as the equation below\n",
    "\n",
    "$$\n",
    "F = ma\n",
    "$$\n",
    "\n",
    "We define $F$ (forace) as a product of $m$ (mass) multiples with $a$ (accerlation). Python relates this mathematic expression as variables $F$, $m$, and $a$, respectively. The assigment statment refers to **LHD** stores values or variables from the **RHD**."
   ]
  },
  {
   "cell_type": "code",
   "execution_count": 2,
   "metadata": {},
   "outputs": [
    {
     "name": "stdout",
     "output_type": "stream",
     "text": [
      "output:  30\n"
     ]
    }
   ],
   "source": [
    "x = 10 + 20\n",
    "print('output: ', x)"
   ]
  },
  {
   "cell_type": "markdown",
   "metadata": {},
   "source": [
    "This example cannot compile when switching **LHD** and **RHD**."
   ]
  },
  {
   "cell_type": "code",
   "execution_count": 3,
   "metadata": {},
   "outputs": [
    {
     "ename": "SyntaxError",
     "evalue": "cannot assign to operator (1791997065.py, line 1)",
     "output_type": "error",
     "traceback": [
      "\u001b[0;36m  File \u001b[0;32m\"/tmp/ipykernel_36428/1791997065.py\"\u001b[0;36m, line \u001b[0;32m1\u001b[0m\n\u001b[0;31m    10 + 20 = x\u001b[0m\n\u001b[0m    ^\u001b[0m\n\u001b[0;31mSyntaxError\u001b[0m\u001b[0;31m:\u001b[0m cannot assign to operator\n"
     ]
    }
   ],
   "source": [
    "10 + 20 = x\n",
    "print('output: ', x)"
   ]
  },
  {
   "cell_type": "markdown",
   "metadata": {},
   "source": [
    "Let's us finish the equation."
   ]
  },
  {
   "cell_type": "code",
   "execution_count": 5,
   "metadata": {},
   "outputs": [
    {
     "name": "stdout",
     "output_type": "stream",
     "text": [
      "Force:  98.10000000000001 unit\n"
     ]
    }
   ],
   "source": [
    "# predefine variables\n",
    "x = 10\n",
    "a = 9.81\n",
    "F = x*a\n",
    "print('Force: ', F, 'unit')"
   ]
  },
  {
   "cell_type": "markdown",
   "metadata": {},
   "source": [
    "#### 2. Variable name, argument, and type\n",
    "\n",
    "Type is a buit-in function in Python that is used for verify class or type of variable. "
   ]
  },
  {
   "cell_type": "code",
   "execution_count": 7,
   "metadata": {},
   "outputs": [
    {
     "name": "stdout",
     "output_type": "stream",
     "text": [
      "type of variable x is  <class 'int'>  and x is called identifier\n"
     ]
    }
   ],
   "source": [
    "print('type of variable x is ', type(x), ' and x is called identifier')"
   ]
  },
  {
   "cell_type": "code",
   "execution_count": 8,
   "metadata": {},
   "outputs": [
    {
     "name": "stdout",
     "output_type": "stream",
     "text": [
      "type of variable a is  <class 'float'>  and a is called identifier\n"
     ]
    }
   ],
   "source": [
    "print('type of variable a is ', type(a), ' and a is called identifier')"
   ]
  },
  {
   "cell_type": "code",
   "execution_count": 9,
   "metadata": {},
   "outputs": [
    {
     "name": "stdout",
     "output_type": "stream",
     "text": [
      "type of variable F is  <class 'float'>  and F is called identifier\n"
     ]
    }
   ],
   "source": [
    "print('type of variable F is ', type(F), ' and F is called identifier')"
   ]
  },
  {
   "cell_type": "markdown",
   "metadata": {},
   "source": [
    "Buit-in **type** identifies interger and floating-piont number. Definitions of both classes will be explianed in the section \"**classes**\"."
   ]
  },
  {
   "cell_type": "markdown",
   "metadata": {},
   "source": [
    "#### 3. Arithmemic\n",
    "\n",
    "<!-- ![SNOWFALL](pictures/arithmetic.png, width=300, height=300) -->\n",
    "<!-- <div>\n",
    "<img src=\"pictures/arithmetic.png\" width=\"500\"/>\n",
    "</div> -->\n",
    "<!-- <img src=\"pictures/arithmetic.png\" style=\"width: 700px;\" align=\"center\"/> -->\n",
    "<p align=\"center\">\n",
    "  <img width=\"700\" src=\"pictures/arithmetic.png\">\n",
    "</p>\n"
   ]
  },
  {
   "cell_type": "markdown",
   "metadata": {},
   "source": []
  }
 ],
 "metadata": {
  "kernelspec": {
   "display_name": "Python 3.8.10 64-bit",
   "language": "python",
   "name": "python3"
  },
  "language_info": {
   "codemirror_mode": {
    "name": "ipython",
    "version": 3
   },
   "file_extension": ".py",
   "mimetype": "text/x-python",
   "name": "python",
   "nbconvert_exporter": "python",
   "pygments_lexer": "ipython3",
   "version": "3.8.10"
  },
  "orig_nbformat": 4,
  "vscode": {
   "interpreter": {
    "hash": "916dbcbb3f70747c44a77c7bcd40155683ae19c65e1c03b4aa3499c5328201f1"
   }
  }
 },
 "nbformat": 4,
 "nbformat_minor": 2
}
