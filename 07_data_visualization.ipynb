{
 "cells": [
  {
   "cell_type": "markdown",
   "metadata": {},
   "source": [
    "[![Open In Colab](https://colab.research.google.com/assets/colab-badge.svg)](https://colab.research.google.com/github/PongthepGeo/ML_22/blob/master/07_data_visualization.ipynb)"
   ]
  },
  {
   "cell_type": "markdown",
   "metadata": {},
   "source": [
    "### Data visualization\n",
    "\n",
    "Data visualization using **matplotlib** library is one of the most popular visualization in open source community. There are other libraries available such as plotly, seaborn, GGplot, altair, bokeh, and pygal. \n",
    "Once we are familiar with matplotlib, we can compare pros and cons with other visualization libraries.\n",
    "\n",
    "```bat\n",
    "pip install matplotlib\n",
    "```"
   ]
  },
  {
   "cell_type": "markdown",
   "metadata": {},
   "source": [
    "#### 1. General plot function"
   ]
  },
  {
   "cell_type": "code",
   "execution_count": null,
   "metadata": {},
   "outputs": [],
   "source": [
    "%matplotlib inline\n",
    "\n",
    "import matplotlib.pyplot as plt\n",
    "\n",
    "list_data = [9, 45, 7, 57, 32, 39.8]\n",
    "plt.plot(list_data, linestyle='dotted', color='red')"
   ]
  },
  {
   "cell_type": "markdown",
   "metadata": {},
   "source": [
    "We can call **plot** function to plot a line and can control color and line style using arguments showning below. More details can be found [here](https://matplotlib.org/2.1.2/api/_as_gen/matplotlib.pyplot.plot.html). Matplotlib also provides more plotting options such as axis, legend, and title.\n"
   ]
  },
  {
   "cell_type": "code",
   "execution_count": null,
   "metadata": {},
   "outputs": [],
   "source": [
    "%matplotlib inline\n",
    "\n",
    "import matplotlib.pyplot as plt\n",
    "import numpy as np\n",
    "\n",
    "list_y1 = [9, 45, 7, 57, 32, 39.8]\n",
    "list_y2 = [26, 5, 47, 50, 20, 21]\n",
    "array_x = np.linspace(0, 10, len(list_y1)) # mix numpy array and list to plot\n",
    "\n",
    "plt.subplots(nrows=1, ncols=1, figsize=(5, 5))\n",
    "plt.plot(array_x, list_y1, linestyle='solid', color='green')\n",
    "plt.plot(array_x, list_y2, linestyle='dashdot', color='blue')\n",
    "plt.title('Comparing Data')\n",
    "plt.xlabel('axis x')\n",
    "plt.ylabel('axis y')\n",
    "plt.legend(['data green', 'data blue'])"
   ]
  },
  {
   "cell_type": "markdown",
   "metadata": {},
   "source": [
    "#### 2. Plot data from Pandas\n",
    "\n",
    "Typically, Pandas have built-in plot functions but we found that transforming the data from Pandas dataframe into Python numpy array can provide more control.\n",
    "\n",
    "Let's import one example of well log data and visualize a scattering plot between column name **GR** and **ILD_log10**."
   ]
  },
  {
   "cell_type": "code",
   "execution_count": null,
   "metadata": {},
   "outputs": [],
   "source": [
    "%matplotlib inline\n",
    "\n",
    "import pandas as pd\n",
    "import matplotlib.pyplot as plt\n",
    "import numpy as np"
   ]
  },
  {
   "cell_type": "code",
   "execution_count": null,
   "metadata": {},
   "outputs": [],
   "source": [
    "data = pd.read_csv('../datasets/welllog_csv/welllogs.csv')"
   ]
  },
  {
   "cell_type": "markdown",
   "metadata": {},
   "source": [
    "Exploring data."
   ]
  },
  {
   "cell_type": "code",
   "execution_count": null,
   "metadata": {},
   "outputs": [],
   "source": [
    "# NOTE explore data information\n",
    "print(data.describe())\n",
    "# NOTE check number of NaN\n",
    "null_value_stats = data.isnull().sum(axis=0)\n",
    "print(null_value_stats[null_value_stats != 0])\n",
    "# NOTE check data types\n",
    "print(data.dtypes)\n",
    "# NOTE check well names\n",
    "well_names = data['Well Name'].unique()\n",
    "print(well_names)"
   ]
  },
  {
   "cell_type": "code",
   "execution_count": null,
   "metadata": {},
   "outputs": [],
   "source": [
    "log_1 = ['GR']\n",
    "log_1 = data[log_1]\n",
    "log_1 = log_1.to_numpy() # conversion \n",
    "print(type(log_1))\n",
    "\n",
    "log_2 = ['ILD_log10']\n",
    "log_2 = data[log_2]\n",
    "log_2 = log_2.to_numpy() # conversion\n",
    "print(type(log_2))"
   ]
  },
  {
   "cell_type": "code",
   "execution_count": null,
   "metadata": {},
   "outputs": [],
   "source": [
    "plt.subplots(nrows=1, ncols=1, figsize=(8, 8))\n",
    "plt.scatter(log_1, log_2, s=30, edgecolors='black')\n",
    "plt.title('Scatter Plot')\n",
    "plt.xlabel('GR')\n",
    "plt.ylabel('Resistivity')"
   ]
  },
  {
   "cell_type": "markdown",
   "metadata": {},
   "source": [
    "Since we understand a simple scatter plot, this time we will plot the two pair data, **DeltaPHI**/**GR** and **PHIND**/**GR**."
   ]
  },
  {
   "cell_type": "code",
   "execution_count": null,
   "metadata": {},
   "outputs": [],
   "source": [
    "%matplotlib inline\n",
    "\n",
    "import pandas as pd\n",
    "import matplotlib.pyplot as plt\n",
    "import numpy as np\n",
    "\n",
    "data = pd.read_csv('../datasets/welllog_csv/welllogs.csv')\n",
    "\n",
    "# plt.close()\n",
    "plt.subplots(nrows=1, ncols=1, figsize=(8, 8))\n",
    "plt.scatter(data['PHIND'].to_numpy(), data['GR'].to_numpy(), s=30, edgecolors='black', c='red', alpha=1.0, marker='X')\n",
    "plt.scatter(data['DeltaPHI'].to_numpy(), data['GR'].to_numpy(), s=30, edgecolors='black', c='orange', alpha=1.0, marker='>')\n",
    "plt.title('Scatter Plot')\n",
    "plt.xlabel('PHIND/DeltaPHI')\n",
    "plt.ylabel('GR')\n",
    "plt.legend(['red cross', 'orange arrow'])"
   ]
  },
  {
   "cell_type": "markdown",
   "metadata": {},
   "source": [
    "#### 3. Statistical plots\n",
    "\n",
    "import numpy as np\n",
    "import matplotlib.pyplot as plt\n",
    "\n",
    "\n",
    "# Fixing random state for reproducibility\n",
    "np.random.seed(19680801)\n",
    "\n",
    "# Compute pie slices\n",
    "N = 20\n",
    "theta = np.linspace(0.0, 2 * np.pi, N, endpoint=False)\n",
    "radii = 10 * np.random.rand(N)\n",
    "width = np.pi / 4 * np.random.rand(N)\n",
    "colors = plt.cm.viridis(radii / 10.)\n",
    "\n",
    "ax = plt.subplot(projection='polar')\n",
    "ax.bar(theta, radii, width=width, bottom=0.0, color=colors, alpha=0.5)\n",
    "\n",
    "plt.show()"
   ]
  }
 ],
 "metadata": {
  "kernelspec": {
   "display_name": "Python 3.8.10 ('project_1': venv)",
   "language": "python",
   "name": "python3"
  },
  "language_info": {
   "codemirror_mode": {
    "name": "ipython",
    "version": 3
   },
   "file_extension": ".py",
   "mimetype": "text/x-python",
   "name": "python",
   "nbconvert_exporter": "python",
   "pygments_lexer": "ipython3",
   "version": "3.8.10"
  },
  "orig_nbformat": 4,
  "vscode": {
   "interpreter": {
    "hash": "6675ebe8d329347567c6ba0976f607b020e4800a700fa002b9c24629bc49987e"
   }
  }
 },
 "nbformat": 4,
 "nbformat_minor": 2
}
