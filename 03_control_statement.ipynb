{
 "cells": [
  {
   "cell_type": "markdown",
   "metadata": {},
   "source": [
    "## Control statements\n",
    "\n",
    "This section covers control statements integrated list, for-loop, augmented assignments, while loop, continue, brake, if, elif, else, and flow diagrams."
   ]
  },
  {
   "cell_type": "markdown",
   "metadata": {},
   "source": [
    "#### 1. List\n",
    "\n",
    "List in Python is data types stored in multiple elements. See the example below of how lists store multiple strings and values."
   ]
  },
  {
   "cell_type": "markdown",
   "metadata": {},
   "source": [
    "#### 2. For-loop and augument assigments\n",
    "\n",
    "For-loop in Python is used for iterating stored data one by one, and argument assignments are operators that assign operations for both sides.\n",
    "\n",
    "```python\n",
    "# iteration with number\n",
    "for i = 1 to 10:\n",
    "    <loop body>\n",
    "\n",
    "# iteration with list\n",
    "list = ['a', 'b', 'c', 'd']\n",
    "for i = list:\n",
    "    <loop body>\n",
    "```\n"
   ]
  },
  {
   "cell_type": "code",
   "execution_count": 1,
   "metadata": {},
   "outputs": [
    {
     "name": "stdout",
     "output_type": "stream",
     "text": [
      "student participation:  Pongthep\n",
      "student participation:  Net\n",
      "student participation:  Noo-D\n",
      "student participation:  Saipan\n",
      "student participation:  Book\n",
      "student participation:  Delinew\n"
     ]
    }
   ],
   "source": [
    "# Example of one test in machine learning class\n",
    "student_names = ['Pongthep', 'Net', 'Noo-D', 'Saipan', 'Book', 'Delinew']\n",
    "for i in student_names:\n",
    "\tprint('student participation: ', i)"
   ]
  },
  {
   "cell_type": "code",
   "execution_count": 2,
   "metadata": {},
   "outputs": [
    {
     "name": "stdout",
     "output_type": "stream",
     "text": [
      "score:  67\n",
      "score:  81\n",
      "score:  84\n",
      "score:  88\n",
      "score:  90\n",
      "score:  82\n"
     ]
    }
   ],
   "source": [
    "score = [67, 81, 84, 88, 90, 82]\n",
    "for i in score:\n",
    "\tprint('score: ', i)"
   ]
  },
  {
   "cell_type": "markdown",
   "metadata": {},
   "source": [
    "Argument assignment refers to += in for-loop, which means storing the value and increasing the value by 1."
   ]
  },
  {
   "cell_type": "code",
   "execution_count": 3,
   "metadata": {},
   "outputs": [
    {
     "name": "stdout",
     "output_type": "stream",
     "text": [
      "number of student:  0\n",
      "number of student:  1\n",
      "number of student:  2\n",
      "number of student:  3\n",
      "number of student:  4\n",
      "number of student:  5\n"
     ]
    }
   ],
   "source": [
    "count = 0\n",
    "for i in student_names:\n",
    "\tprint('number of student: ', count)\n",
    "\tcount += 1"
   ]
  },
  {
   "cell_type": "markdown",
   "metadata": {},
   "source": [
    "#### 3. While, break, and continue\n",
    "\n"
   ]
  }
 ],
 "metadata": {
  "kernelspec": {
   "display_name": "Python 3.8.10 64-bit",
   "language": "python",
   "name": "python3"
  },
  "language_info": {
   "codemirror_mode": {
    "name": "ipython",
    "version": 3
   },
   "file_extension": ".py",
   "mimetype": "text/x-python",
   "name": "python",
   "nbconvert_exporter": "python",
   "pygments_lexer": "ipython3",
   "version": "3.8.10"
  },
  "orig_nbformat": 4,
  "vscode": {
   "interpreter": {
    "hash": "916dbcbb3f70747c44a77c7bcd40155683ae19c65e1c03b4aa3499c5328201f1"
   }
  }
 },
 "nbformat": 4,
 "nbformat_minor": 2
}
