{
 "cells": [
  {
   "cell_type": "markdown",
   "metadata": {},
   "source": [
    "[![Open In Colab](https://colab.research.google.com/assets/colab-badge.svg)](https://colab.research.google.com/github/PongthepGeo/introductory_python_2022/blob/master/verify_installed_packages.ipynb)"
   ]
  },
  {
   "cell_type": "markdown",
   "metadata": {},
   "source": [
    "## Control statements\n",
    "\n",
    "This section covers control statements integrated list, for-loop, augmented assignments, while loop, continue, brake, if, elif, else, and flow diagrams."
   ]
  },
  {
   "cell_type": "markdown",
   "metadata": {},
   "source": [
    "#### 1. List\n",
    "\n",
    "List in Python is data types stored in multiple elements. See the example below of how lists store multiple strings and values.\n",
    "\n",
    "##### 1.1 Index and value"
   ]
  },
  {
   "cell_type": "markdown",
   "metadata": {},
   "source": [
    "#### 2. For-loop and augument assigments\n",
    "\n",
    "For-loop in Python is used for iterating stored data one by one, and argument assignments are operators that assign operations for both sides.\n",
    "\n",
    "```python\n",
    "# iteration with number\n",
    "for i = 1 to 10:\n",
    "    <loop body>\n",
    "\n",
    "# iteration with list\n",
    "list = ['a', 'b', 'c', 'd']\n",
    "for i = list:\n",
    "    <loop body>\n",
    "```\n"
   ]
  },
  {
   "cell_type": "code",
   "execution_count": null,
   "metadata": {},
   "outputs": [],
   "source": [
    "# Example of one test in machine learning class\n",
    "student_names = ['Pongthep', 'Net', 'Noo-D', 'Saipan', 'Book', 'Delinew']\n",
    "for i in student_names:\n",
    "\tprint('student participation: ', i)"
   ]
  },
  {
   "cell_type": "code",
   "execution_count": null,
   "metadata": {},
   "outputs": [],
   "source": [
    "score = [67, 81, 84, 88, 90, 82]\n",
    "for i in score:\n",
    "\tprint('score: ', i)"
   ]
  },
  {
   "cell_type": "markdown",
   "metadata": {},
   "source": [
    "Argument assignment refers to += in for-loop, which means storing the value and increasing the value by 1."
   ]
  },
  {
   "cell_type": "code",
   "execution_count": null,
   "metadata": {},
   "outputs": [],
   "source": [
    "count = 0\n",
    "for i in student_names:\n",
    "\tprint('number of student: ', count)\n",
    "\tcount += 1"
   ]
  },
  {
   "cell_type": "markdown",
   "metadata": {},
   "source": [
    "#### 3. While loop, break, and continue\n",
    "\n",
    "While-loop is commonly used for iterating condition statements; it will repeat statements until they reach a decided condition to terminate the loops.\n",
    "\n",
    "```python\n",
    "# basic\n",
    "while <expr>:\n",
    "    <statement(s)>\n",
    "\n",
    "# break and continue\n",
    "while <expr>: # 0\n",
    "    <statement(s)>\n",
    "    <statement(s)>\n",
    "    <statement(s)>\n",
    "    break # break jumps to 1\n",
    "    <statement(s)>\n",
    "    <statement(s)>\n",
    "    continue # continue jumps to 0\n",
    "<statement(s)> # 1\n",
    "```"
   ]
  },
  {
   "cell_type": "code",
   "execution_count": null,
   "metadata": {},
   "outputs": [],
   "source": [
    "student_names = ['Pongthep', 'Net', 'Noo-D', 'Saipan', 'Book', 'Daylinew']\n",
    "\n",
    "while student_names:\n",
    "\tprint(student_names.pop(0))"
   ]
  },
  {
   "cell_type": "markdown",
   "metadata": {},
   "source": [
    "For-loop can access the item in the list, as shown previously. While-loop is another iteration technique that can access data like a for-loop. The list, student_names, contains six items that while-loop can access index by index. We use the built-in function named \"**pop**\" to remove the item in the list, so the while-loop will be terminated when the list is empty."
   ]
  },
  {
   "cell_type": "code",
   "execution_count": null,
   "metadata": {},
   "outputs": [],
   "source": [
    "student_names = ['Pongthep', 'Net', 'Noo-D', 'Saipan', 'Book', 'Daylinew']\n",
    "# print(len(student_names))\n",
    "\n",
    "i = 0\n",
    "while i < len(student_names):\n",
    "\tprint('student name: ', student_names[i])\n",
    "\ti += 1"
   ]
  },
  {
   "cell_type": "code",
   "execution_count": 15,
   "metadata": {},
   "outputs": [
    {
     "name": "stdout",
     "output_type": "stream",
     "text": [
      "we found student:  Net\n"
     ]
    }
   ],
   "source": [
    "student_names = ['Pongthep', 'Net', 'Noo-D', 'Saipan', 'Book', 'Daylinew']\n",
    "\n",
    "i = 0\n",
    "while i < len(student_names):\n",
    "\tif student_names[i] == 'Net':\n",
    "\t\tprint('we found student: ', student_names[i])\n",
    "\t\tbreak\n",
    "\telif student_names[i] == 'John':\n",
    "\t\tprint('we found student: ', student_names[i])\n",
    "\ti += 1"
   ]
  },
  {
   "cell_type": "markdown",
   "metadata": {},
   "source": [
    "Assigement 1: we would like to print 'Net' and 'Book' student indexes."
   ]
  }
 ],
 "metadata": {
  "kernelspec": {
   "display_name": "Python 3.8.10 64-bit",
   "language": "python",
   "name": "python3"
  },
  "language_info": {
   "codemirror_mode": {
    "name": "ipython",
    "version": 3
   },
   "file_extension": ".py",
   "mimetype": "text/x-python",
   "name": "python",
   "nbconvert_exporter": "python",
   "pygments_lexer": "ipython3",
   "version": "3.8.10"
  },
  "orig_nbformat": 4,
  "vscode": {
   "interpreter": {
    "hash": "916dbcbb3f70747c44a77c7bcd40155683ae19c65e1c03b4aa3499c5328201f1"
   }
  }
 },
 "nbformat": 4,
 "nbformat_minor": 2
}
